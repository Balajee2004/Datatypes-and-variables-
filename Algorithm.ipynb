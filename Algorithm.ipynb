{
 "cells": [
  {
   "cell_type": "markdown",
   "id": "cb29d9eb",
   "metadata": {},
   "source": [
    "Step 1: Start the Program.\n",
    "step 2: Get the Inputs from the user(m1,m2,m3,m4).\n",
    "step 3: Read the Inputs.\n",
    "Step 4: Sum all the Inputs and divide it by 4.\n",
    "step 5: Check whether the average is greater than 35.\n",
    "step 6: If greater than 35 print Pass.\n",
    "step 7: Else print Fail.\n",
    "step 8: Stop the Program"
   ]
  },
  {
   "cell_type": "code",
   "execution_count": 6,
   "id": "64141b0a",
   "metadata": {},
   "outputs": [
    {
     "name": "stdout",
     "output_type": "stream",
     "text": [
      "Enter the Mark 1 : 3\n",
      "Enter the Mark 2 : 45\n",
      "Enter the Mark 3 : 56\n",
      "Enter the Mark 4 : 67\n",
      "171\n",
      "42.75\n",
      "Pass\n"
     ]
    }
   ],
   "source": [
    "M1 = int(input(\"Enter the Mark 1 : \"))\n",
    "M2 = int(input(\"Enter the Mark 2 : \"))\n",
    "M3 = int(input(\"Enter the Mark 3 : \"))\n",
    "M4 = int(input(\"Enter the Mark 4 : \"))\n",
    "Total = M1 + M2 + M3 + M4\n",
    "Average = Total/4\n",
    "print(Total)\n",
    "print(Average)\n",
    "if Average>= 35:\n",
    "    print(\"Pass\")\n",
    "else:\n",
    "    print(\"Fail\")"
   ]
  },
  {
   "cell_type": "code",
   "execution_count": 2,
   "id": "236754b3",
   "metadata": {},
   "outputs": [
    {
     "name": "stdout",
     "output_type": "stream",
     "text": [
      "Enter the number of subjects : 6\n",
      "Enter the Marks 1 : 23\n",
      "Enter the Marks 2 : 34\n",
      "Enter the Marks 3 : 45\n",
      "Enter the Marks 4 : 56\n",
      "Enter the Marks 5 : 67\n",
      "Enter the Marks 6 : 89\n",
      "52.333333333333336\n",
      "Pass\n"
     ]
    }
   ],
   "source": [
    "subjects = int(input(\"Enter the number of subjects : \"))\n",
    "marks = []\n",
    "for m in range(1,subjects+1):\n",
    "    marks.append(int(input(f\"Enter the Marks {m} : \")))\n",
    "avg = sum(marks)/subjects\n",
    "print(avg)\n",
    "if avg>=35:\n",
    "    print(\"Pass\")\n",
    "else:\n",
    "    print(\"Fail\")"
   ]
  },
  {
   "cell_type": "code",
   "execution_count": null,
   "id": "46623a7f",
   "metadata": {},
   "outputs": [],
   "source": []
  }
 ],
 "metadata": {
  "kernelspec": {
   "display_name": "Python 3 (ipykernel)",
   "language": "python",
   "name": "python3"
  },
  "language_info": {
   "codemirror_mode": {
    "name": "ipython",
    "version": 3
   },
   "file_extension": ".py",
   "mimetype": "text/x-python",
   "name": "python",
   "nbconvert_exporter": "python",
   "pygments_lexer": "ipython3",
   "version": "3.11.4"
  }
 },
 "nbformat": 4,
 "nbformat_minor": 5
}
