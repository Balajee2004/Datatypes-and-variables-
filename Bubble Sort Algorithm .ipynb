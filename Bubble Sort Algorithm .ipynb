{
 "cells": [
  {
   "cell_type": "code",
   "execution_count": 44,
   "id": "3b9bc6f2",
   "metadata": {},
   "outputs": [],
   "source": [
    "Data = [8,9,5,3,7,-1,0,-8,-6,-7,-4,-5,-3,-9,-2,-10,10,2,1,6,4]"
   ]
  },
  {
   "cell_type": "code",
   "execution_count": 45,
   "id": "2b1530ac",
   "metadata": {},
   "outputs": [
    {
     "data": {
      "text/plain": [
       "[8, 9, 5, 3, 7, -1, 0, -8, -6, -7, -4, -5, -3, -9, -2, -10, 10, 2, 1, 6, 4]"
      ]
     },
     "execution_count": 45,
     "metadata": {},
     "output_type": "execute_result"
    }
   ],
   "source": [
    "Data"
   ]
  },
  {
   "cell_type": "code",
   "execution_count": 46,
   "id": "be38d771",
   "metadata": {},
   "outputs": [],
   "source": [
    "def bubble_sort(Data):\n",
    "    a = len(Data)\n",
    "    for i in range(a):\n",
    "        for r in range(0,a-1):\n",
    "            if Data[r]>Data[r+1]:\n",
    "                k = Data[r]\n",
    "                Data[r] = Data[r+1]\n",
    "                Data[r+1] = k"
   ]
  },
  {
   "cell_type": "code",
   "execution_count": 47,
   "id": "2c10ef0c",
   "metadata": {},
   "outputs": [],
   "source": [
    "bubble_sort(Data)"
   ]
  },
  {
   "cell_type": "code",
   "execution_count": 48,
   "id": "9bce97ae",
   "metadata": {
    "scrolled": true
   },
   "outputs": [
    {
     "name": "stdout",
     "output_type": "stream",
     "text": [
      "[-10, -9, -8, -7, -6, -5, -4, -3, -2, -1, 0, 1, 2, 3, 4, 5, 6, 7, 8, 9, 10]\n"
     ]
    }
   ],
   "source": [
    "print(Data)"
   ]
  },
  {
   "cell_type": "code",
   "execution_count": null,
   "id": "61e36419",
   "metadata": {},
   "outputs": [],
   "source": []
  }
 ],
 "metadata": {
  "kernelspec": {
   "display_name": "Python 3 (ipykernel)",
   "language": "python",
   "name": "python3"
  },
  "language_info": {
   "codemirror_mode": {
    "name": "ipython",
    "version": 3
   },
   "file_extension": ".py",
   "mimetype": "text/x-python",
   "name": "python",
   "nbconvert_exporter": "python",
   "pygments_lexer": "ipython3",
   "version": "3.11.4"
  }
 },
 "nbformat": 4,
 "nbformat_minor": 5
}
