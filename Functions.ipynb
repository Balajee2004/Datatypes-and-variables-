{
 "cells": [
  {
   "cell_type": "code",
   "execution_count": 17,
   "id": "d43282ff",
   "metadata": {},
   "outputs": [],
   "source": [
    "def eligiblity():\n",
    "    Age = int(input(\"Enter your Age : \"))\n",
    "    if Age >= 18:\n",
    "        print(\"You are eligible for Voting.\")\n",
    "    else:\n",
    "        print(\"You are not eligible for Voting.\")"
   ]
  },
  {
   "cell_type": "code",
   "execution_count": 18,
   "id": "082e359f",
   "metadata": {},
   "outputs": [
    {
     "name": "stdout",
     "output_type": "stream",
     "text": [
      "Enter your Age : 23\n",
      "You are eligible for Voting.\n"
     ]
    }
   ],
   "source": [
    "eligiblity()"
   ]
  },
  {
   "cell_type": "code",
   "execution_count": 21,
   "id": "173d1df2",
   "metadata": {},
   "outputs": [],
   "source": [
    "def eligible(age):\n",
    "    if age >= 18:\n",
    "        print(\"You are eligible for Voting.\")\n",
    "    else:\n",
    "        print(\"You are not eligible for Voting.\")"
   ]
  },
  {
   "cell_type": "code",
   "execution_count": 22,
   "id": "08df5755",
   "metadata": {},
   "outputs": [
    {
     "name": "stdout",
     "output_type": "stream",
     "text": [
      "You are eligible for Voting.\n"
     ]
    }
   ],
   "source": [
    "eligible(18)"
   ]
  },
  {
   "cell_type": "code",
   "execution_count": null,
   "id": "edfb7f53",
   "metadata": {},
   "outputs": [],
   "source": []
  }
 ],
 "metadata": {
  "kernelspec": {
   "display_name": "Python 3 (ipykernel)",
   "language": "python",
   "name": "python3"
  },
  "language_info": {
   "codemirror_mode": {
    "name": "ipython",
    "version": 3
   },
   "file_extension": ".py",
   "mimetype": "text/x-python",
   "name": "python",
   "nbconvert_exporter": "python",
   "pygments_lexer": "ipython3",
   "version": "3.11.4"
  }
 },
 "nbformat": 4,
 "nbformat_minor": 5
}
