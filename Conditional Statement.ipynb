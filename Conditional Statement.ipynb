{
 "cells": [
  {
   "cell_type": "code",
   "execution_count": 1,
   "id": "8c21f044",
   "metadata": {},
   "outputs": [],
   "source": [
    "t=4"
   ]
  },
  {
   "cell_type": "code",
   "execution_count": 4,
   "id": "d4ccc172",
   "metadata": {},
   "outputs": [
    {
     "name": "stdout",
     "output_type": "stream",
     "text": [
      "fail\n"
     ]
    }
   ],
   "source": [
    "if t!=5:\n",
    "    print(\"fail\")\n",
    "else:\n",
    "    print(\"pass\")"
   ]
  },
  {
   "cell_type": "code",
   "execution_count": 5,
   "id": "27af5263",
   "metadata": {},
   "outputs": [
    {
     "name": "stdout",
     "output_type": "stream",
     "text": [
      "Enter the Number : 56\n",
      "The given number is greater than 10\n"
     ]
    }
   ],
   "source": [
    "A = int(input(\"Enter the Number : \"))\n",
    "if A >= 10:\n",
    "    print(\"The given number is greater than 10\")\n",
    "else:\n",
    "    print(\"The given number is not smaller than 10\")"
   ]
  },
  {
   "cell_type": "code",
   "execution_count": 10,
   "id": "8aeaf7d2",
   "metadata": {},
   "outputs": [
    {
     "name": "stdout",
     "output_type": "stream",
     "text": [
      "Enter your Age : 19\n",
      "You are eligible for Voting.\n"
     ]
    }
   ],
   "source": [
    "Age = int(input(\"Enter your Age : \"))\n",
    "if Age >= 18:\n",
    "    print(\"You are eligible for Voting.\")\n",
    "else:\n",
    "    print(\"You are not eligible for Voting.\")"
   ]
  },
  {
   "cell_type": "code",
   "execution_count": 14,
   "id": "dce6ac42",
   "metadata": {},
   "outputs": [
    {
     "name": "stdout",
     "output_type": "stream",
     "text": [
      "Enter your Age : -19\n",
      "Invalid Age.\n",
      "Enter your Age : 19\n",
      "You are eligible for Voting.\n"
     ]
    }
   ],
   "source": [
    "Age = int(input(\"Enter your Age : \"))\n",
    "if Age >= 18:\n",
    "    print(\"You are eligible for Voting.\")\n",
    "elif Age <= 0:\n",
    "    print(\"Invalid Age.\")\n",
    "    Age = int(input(\"Enter your Age : \"))\n",
    "    if Age >= 18:\n",
    "        print(\"You are eligible for Voting.\")\n",
    "    else:\n",
    "        print(\"You are not eligible for Voting.\")\n",
    "else:\n",
    "    print(\"You are not eligible for Voting.\")"
   ]
  },
  {
   "cell_type": "code",
   "execution_count": 31,
   "id": "dd70e408",
   "metadata": {
    "scrolled": true
   },
   "outputs": [
    {
     "name": "stdout",
     "output_type": "stream",
     "text": [
      "Enter the Number of days that delayed to deliver the books : 1\n",
      "Fine Amount : 10 Rupees.\n"
     ]
    }
   ],
   "source": [
    "Days = int(input(\"Enter the Number of days that delayed to deliver the books : \"))\n",
    "if Days >= 1 and Days <= 2:\n",
    "    print(\"Fine Amount : 10 Rupees.\")\n",
    "elif Days >= 3 and Days <= 4:\n",
    "    print(\"Fine Amount : 20 Rupees.\")\n",
    "else:\n",
    "    print(\"Your Membership will be cancelled.\")"
   ]
  },
  {
   "cell_type": "code",
   "execution_count": null,
   "id": "aeae9801",
   "metadata": {},
   "outputs": [],
   "source": []
  }
 ],
 "metadata": {
  "kernelspec": {
   "display_name": "Python 3 (ipykernel)",
   "language": "python",
   "name": "python3"
  },
  "language_info": {
   "codemirror_mode": {
    "name": "ipython",
    "version": 3
   },
   "file_extension": ".py",
   "mimetype": "text/x-python",
   "name": "python",
   "nbconvert_exporter": "python",
   "pygments_lexer": "ipython3",
   "version": "3.11.4"
  }
 },
 "nbformat": 4,
 "nbformat_minor": 5
}
