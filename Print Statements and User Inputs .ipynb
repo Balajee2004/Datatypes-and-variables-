{
 "cells": [
  {
   "cell_type": "code",
   "execution_count": 2,
   "id": "befe06d4",
   "metadata": {},
   "outputs": [
    {
     "name": "stdout",
     "output_type": "stream",
     "text": [
      "Hello World!\n"
     ]
    }
   ],
   "source": [
    "print(\"Hello World!\")"
   ]
  },
  {
   "cell_type": "code",
   "execution_count": 5,
   "id": "2c4e5e84",
   "metadata": {},
   "outputs": [],
   "source": [
    "a = 10"
   ]
  },
  {
   "cell_type": "code",
   "execution_count": 6,
   "id": "6bce1f44",
   "metadata": {},
   "outputs": [
    {
     "data": {
      "text/plain": [
       "10"
      ]
     },
     "execution_count": 6,
     "metadata": {},
     "output_type": "execute_result"
    }
   ],
   "source": [
    "a"
   ]
  },
  {
   "cell_type": "markdown",
   "id": "6d40472b",
   "metadata": {},
   "source": [
    "# .Format Printing"
   ]
  },
  {
   "cell_type": "code",
   "execution_count": 12,
   "id": "5b6eff99",
   "metadata": {},
   "outputs": [
    {
     "name": "stdout",
     "output_type": "stream",
     "text": [
      "The Value of A is 10\n"
     ]
    }
   ],
   "source": [
    "print(\"The Value of A is {}\".format(a))"
   ]
  },
  {
   "cell_type": "code",
   "execution_count": 21,
   "id": "6489f369",
   "metadata": {},
   "outputs": [
    {
     "name": "stdout",
     "output_type": "stream",
     "text": [
      "Enter the Name : Appu\n",
      "My Name is Appu.\n"
     ]
    }
   ],
   "source": [
    "Name = str(input(\"Enter the Name : \"))\n",
    "print(\"My Name is {}.\".format(Name))"
   ]
  },
  {
   "cell_type": "code",
   "execution_count": 22,
   "id": "a5c5cb3f",
   "metadata": {},
   "outputs": [
    {
     "name": "stdout",
     "output_type": "stream",
     "text": [
      "My name is Appu, \n",
      "I am 19 years old.\n"
     ]
    }
   ],
   "source": [
    "print(\"My name is {Name}, \\nI am {age} years old.\".format(Name = \"Appu\", age = \"19\"))"
   ]
  },
  {
   "cell_type": "code",
   "execution_count": 24,
   "id": "0f6f3a5a",
   "metadata": {},
   "outputs": [
    {
     "name": "stdout",
     "output_type": "stream",
     "text": [
      "Enter your Name : Appu\n",
      "Enter your Age : 19\n",
      "Enter your collage Name : Pmist\n",
      "My name is Appu, I am 19 years old and I am studying in Pmist.\n"
     ]
    }
   ],
   "source": [
    "Name = str(input(\"Enter your Name : \"))\n",
    "Age = int(input(\"Enter your Age : \"))\n",
    "College = str(input(\"Enter your collage Name : \"))\n",
    "print(\"My name is {}, I am {} years old and I am studying in {}.\".format(Name,Age,College))"
   ]
  },
  {
   "cell_type": "markdown",
   "id": "2733aa01",
   "metadata": {},
   "source": [
    "# F-PRINT"
   ]
  },
  {
   "cell_type": "code",
   "execution_count": 27,
   "id": "e33e7b1b",
   "metadata": {},
   "outputs": [
    {
     "name": "stdout",
     "output_type": "stream",
     "text": [
      "My name is Appu an I am 19 years old.\n"
     ]
    }
   ],
   "source": [
    "print(f\"My name is {'Appu'} an I am {19} years old.\")"
   ]
  },
  {
   "cell_type": "code",
   "execution_count": 32,
   "id": "3dfdab09",
   "metadata": {},
   "outputs": [
    {
     "name": "stdout",
     "output_type": "stream",
     "text": [
      "My name is Appu and I am 19 years old.\n"
     ]
    }
   ],
   "source": [
    "Name = \"Appu\"\n",
    "Age = 19\n",
    "print(f\"My name is {Name} and I am {Age} years old.\")"
   ]
  },
  {
   "cell_type": "markdown",
   "id": "5b0c2951",
   "metadata": {},
   "source": [
    "# Task-1\n",
    "## She \"sell\" sea shell in \"sea shore\" "
   ]
  },
  {
   "cell_type": "code",
   "execution_count": 33,
   "id": "ca7bfcac",
   "metadata": {},
   "outputs": [
    {
     "name": "stdout",
     "output_type": "stream",
     "text": [
      "She \"Sell\" sea shell in \"Sea shore\"\n"
     ]
    }
   ],
   "source": [
    "a = '\"Sell\"'\n",
    "b = '\"Sea shore\"'\n",
    "print(\"She {} sea shell in {}\".format(a,b))"
   ]
  },
  {
   "cell_type": "markdown",
   "id": "d3fee3ca",
   "metadata": {},
   "source": [
    "# User Input"
   ]
  },
  {
   "cell_type": "code",
   "execution_count": 40,
   "id": "b8d277c7",
   "metadata": {},
   "outputs": [
    {
     "name": "stdout",
     "output_type": "stream",
     "text": [
      "Enter the Input : Appu\n"
     ]
    }
   ],
   "source": [
    "var_1 = input(\"Enter the Input : \")"
   ]
  },
  {
   "cell_type": "code",
   "execution_count": 41,
   "id": "40f909fd",
   "metadata": {},
   "outputs": [
    {
     "data": {
      "text/plain": [
       "'Appu'"
      ]
     },
     "execution_count": 41,
     "metadata": {},
     "output_type": "execute_result"
    }
   ],
   "source": [
    "var_1"
   ]
  },
  {
   "cell_type": "code",
   "execution_count": 42,
   "id": "95acb042",
   "metadata": {},
   "outputs": [
    {
     "data": {
      "text/plain": [
       "str"
      ]
     },
     "execution_count": 42,
     "metadata": {},
     "output_type": "execute_result"
    }
   ],
   "source": [
    "type(var_1)"
   ]
  },
  {
   "cell_type": "code",
   "execution_count": 43,
   "id": "69d163d6",
   "metadata": {},
   "outputs": [
    {
     "name": "stdout",
     "output_type": "stream",
     "text": [
      "10\n"
     ]
    }
   ],
   "source": [
    "a = input()"
   ]
  },
  {
   "cell_type": "code",
   "execution_count": 44,
   "id": "c178a177",
   "metadata": {},
   "outputs": [
    {
     "data": {
      "text/plain": [
       "'10'"
      ]
     },
     "execution_count": 44,
     "metadata": {},
     "output_type": "execute_result"
    }
   ],
   "source": [
    "a"
   ]
  },
  {
   "cell_type": "code",
   "execution_count": 45,
   "id": "8599d0e3",
   "metadata": {},
   "outputs": [
    {
     "data": {
      "text/plain": [
       "str"
      ]
     },
     "execution_count": 45,
     "metadata": {},
     "output_type": "execute_result"
    }
   ],
   "source": [
    "type(a)"
   ]
  },
  {
   "cell_type": "code",
   "execution_count": 47,
   "id": "6cba1810",
   "metadata": {},
   "outputs": [
    {
     "name": "stdout",
     "output_type": "stream",
     "text": [
      "Enter your Age : 19\n"
     ]
    }
   ],
   "source": [
    "Age = int(input(\"Enter your Age : \"))"
   ]
  },
  {
   "cell_type": "code",
   "execution_count": 48,
   "id": "9209a646",
   "metadata": {},
   "outputs": [
    {
     "data": {
      "text/plain": [
       "19"
      ]
     },
     "execution_count": 48,
     "metadata": {},
     "output_type": "execute_result"
    }
   ],
   "source": [
    "Age"
   ]
  },
  {
   "cell_type": "code",
   "execution_count": 49,
   "id": "932f24fc",
   "metadata": {},
   "outputs": [
    {
     "data": {
      "text/plain": [
       "int"
      ]
     },
     "execution_count": 49,
     "metadata": {},
     "output_type": "execute_result"
    }
   ],
   "source": [
    "type(Age)"
   ]
  },
  {
   "cell_type": "code",
   "execution_count": null,
   "id": "67e31e60",
   "metadata": {},
   "outputs": [],
   "source": []
  }
 ],
 "metadata": {
  "kernelspec": {
   "display_name": "Python 3 (ipykernel)",
   "language": "python",
   "name": "python3"
  },
  "language_info": {
   "codemirror_mode": {
    "name": "ipython",
    "version": 3
   },
   "file_extension": ".py",
   "mimetype": "text/x-python",
   "name": "python",
   "nbconvert_exporter": "python",
   "pygments_lexer": "ipython3",
   "version": "3.11.4"
  }
 },
 "nbformat": 4,
 "nbformat_minor": 5
}
