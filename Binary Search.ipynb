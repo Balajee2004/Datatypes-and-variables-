{
 "cells": [
  {
   "cell_type": "markdown",
   "id": "2c985cf2",
   "metadata": {},
   "source": [
    "# Creating dataset"
   ]
  },
  {
   "cell_type": "code",
   "execution_count": 2,
   "id": "f4f2b30b",
   "metadata": {},
   "outputs": [],
   "source": [
    "data = [45,23,45,12,34,7,8,9,6,67,5,5,67,87,23,2,12,13,16,17,18,19,212,34,45,56,89,87,56]"
   ]
  },
  {
   "cell_type": "markdown",
   "id": "eefc063f",
   "metadata": {},
   "source": [
    "# data Sorting"
   ]
  },
  {
   "cell_type": "code",
   "execution_count": 3,
   "id": "8e865657",
   "metadata": {},
   "outputs": [
    {
     "name": "stdout",
     "output_type": "stream",
     "text": [
      "[2, 5, 5, 6, 7, 8, 9, 12, 12, 13, 16, 17, 18, 19, 23, 23, 34, 34, 45, 45, 45, 56, 56, 67, 67, 87, 87, 89, 212]\n"
     ]
    }
   ],
   "source": [
    "data.sort()\n",
    "print(data)"
   ]
  },
  {
   "cell_type": "code",
   "execution_count": 11,
   "id": "e6e5609a",
   "metadata": {},
   "outputs": [
    {
     "name": "stdout",
     "output_type": "stream",
     "text": [
      "Enter the search element : 45\n"
     ]
    }
   ],
   "source": [
    "element = int(input(\"Enter the search element : \"))"
   ]
  },
  {
   "cell_type": "code",
   "execution_count": 9,
   "id": "9e03b3ef",
   "metadata": {},
   "outputs": [],
   "source": [
    "def binary_search(data, element):\n",
    "    low = 0\n",
    "    high = len(data) - 1\n",
    "    while low <= high:\n",
    "        middle = (low + high)//2\n",
    "        if data[middle] == element:\n",
    "            print(f\"The searching element {element} is present at the index value {middle} in the dataset\")\n",
    "            break\n",
    "        elif data[middle] > element:\n",
    "            high = middle - 1\n",
    "        else:\n",
    "            low = middle + 1\n",
    "    if data[middle] != element:\n",
    "        print(f\"The searching element {element} if not present in the dataset\")\n",
    "        return"
   ]
  },
  {
   "cell_type": "code",
   "execution_count": 12,
   "id": "76076a86",
   "metadata": {},
   "outputs": [
    {
     "name": "stdout",
     "output_type": "stream",
     "text": [
      "The searching element 45 is present at the index value 19 in the dataset\n"
     ]
    }
   ],
   "source": [
    "binary_search(data,element)"
   ]
  },
  {
   "cell_type": "code",
   "execution_count": null,
   "id": "80dc41a7",
   "metadata": {},
   "outputs": [],
   "source": []
  }
 ],
 "metadata": {
  "kernelspec": {
   "display_name": "Python 3 (ipykernel)",
   "language": "python",
   "name": "python3"
  },
  "language_info": {
   "codemirror_mode": {
    "name": "ipython",
    "version": 3
   },
   "file_extension": ".py",
   "mimetype": "text/x-python",
   "name": "python",
   "nbconvert_exporter": "python",
   "pygments_lexer": "ipython3",
   "version": "3.11.4"
  }
 },
 "nbformat": 4,
 "nbformat_minor": 5
}
