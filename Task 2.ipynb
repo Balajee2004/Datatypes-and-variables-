{
 "cells": [
  {
   "cell_type": "code",
   "execution_count": 22,
   "id": "b871b5a5",
   "metadata": {
    "scrolled": true
   },
   "outputs": [],
   "source": [
    "Details = {\"Name\" : \"Appu \", \"Age\" : \"19 \", \"College\" : \" PMIST\", \"Father_Name\" : \"Hari \", \"Reg_No\" : \"122012012787 \", \"CGPA\" : \"7.60 CGPA\", \"Programme\" : \"B.Tech\", \"Department\" : \"CSE\"}"
   ]
  },
  {
   "cell_type": "code",
   "execution_count": 23,
   "id": "73dbd19c",
   "metadata": {},
   "outputs": [
    {
     "name": "stdout",
     "output_type": "stream",
     "text": [
      "My name is Appu ,I am 19 years Old. My Father name is Hari .I am currently pursuaing my B.Tech degree in CSE .And I Scored 7.60 CGPA in current semester.\n"
     ]
    }
   ],
   "source": [
    "print(\"My name is {},I am {}years Old. My Father name is {}.I am currently pursuaing my {} degree in {} .And I Scored {} in current semester.\".format(Details[\"Name\"], Details[\"Age\"], Details[\"Father_Name\"], Details[\"Programme\"], Details[\"Department\"], Details[\"CGPA\"]))"
   ]
  },
  {
   "cell_type": "code",
   "execution_count": null,
   "id": "1e0f77bd",
   "metadata": {},
   "outputs": [],
   "source": []
  }
 ],
 "metadata": {
  "kernelspec": {
   "display_name": "Python 3 (ipykernel)",
   "language": "python",
   "name": "python3"
  },
  "language_info": {
   "codemirror_mode": {
    "name": "ipython",
    "version": 3
   },
   "file_extension": ".py",
   "mimetype": "text/x-python",
   "name": "python",
   "nbconvert_exporter": "python",
   "pygments_lexer": "ipython3",
   "version": "3.11.4"
  }
 },
 "nbformat": 4,
 "nbformat_minor": 5
}
