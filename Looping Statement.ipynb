{
 "cells": [
  {
   "cell_type": "markdown",
   "id": "13705832",
   "metadata": {},
   "source": [
    "# looping Statement:"
   ]
  },
  {
   "cell_type": "markdown",
   "id": "8e5e8bd5",
   "metadata": {},
   "source": [
    "# for loop:"
   ]
  },
  {
   "cell_type": "code",
   "execution_count": 6,
   "id": "395c15a3",
   "metadata": {},
   "outputs": [
    {
     "name": "stdout",
     "output_type": "stream",
     "text": [
      "Count : 1\n",
      "Count : 2\n",
      "Count : 3\n",
      "Count : 4\n",
      "Count : 5\n",
      "Count : 6\n",
      "Count : 7\n",
      "Count : 8\n"
     ]
    }
   ],
   "source": [
    "order = {1,2,3,4,5,6,7,8}\n",
    "for each_num in order:\n",
    "    print(f\"Count : {each_num}\")"
   ]
  },
  {
   "cell_type": "code",
   "execution_count": 36,
   "id": "3a742d16",
   "metadata": {},
   "outputs": [
    {
     "name": "stdout",
     "output_type": "stream",
     "text": [
      "Enter the number of items in your trolly : 3\n",
      "Enter the Name of the Product : pen\n",
      "Enter the Name of the Product : pencil\n",
      "Enter the Name of the Product : scale\n"
     ]
    }
   ],
   "source": [
    "a = int(input(\"Enter the number of items in your trolly : \"))\n",
    "for i in range(a):\n",
    "    str(input(\"Enter the Name of the Product : \"))"
   ]
  },
  {
   "cell_type": "code",
   "execution_count": 38,
   "id": "b4fcf5c6",
   "metadata": {},
   "outputs": [
    {
     "name": "stdout",
     "output_type": "stream",
     "text": [
      "Enter the Number of Products in your trolly : 3\n",
      "Enter the Product Name : apple\n",
      "Enter the Product Name : banana\n",
      "Enter the Product Name : orange\n"
     ]
    }
   ],
   "source": [
    "products = []\n",
    "items = int(input(\"Enter the Number of Products in your trolly : \"))\n",
    "for i in range(items):\n",
    "    products.append(input(\"Enter the Product Name : \"))"
   ]
  },
  {
   "cell_type": "code",
   "execution_count": 42,
   "id": "5cc8a1db",
   "metadata": {},
   "outputs": [
    {
     "data": {
      "text/plain": [
       "['apple', 'banana', 'orange']"
      ]
     },
     "execution_count": 42,
     "metadata": {},
     "output_type": "execute_result"
    }
   ],
   "source": [
    "products"
   ]
  },
  {
   "cell_type": "code",
   "execution_count": 49,
   "id": "f03a3f53",
   "metadata": {},
   "outputs": [
    {
     "name": "stdout",
     "output_type": "stream",
     "text": [
      "1\n",
      "2\n",
      "3\n",
      "5\n",
      "8\n",
      "13\n",
      "21\n",
      "34\n",
      "55\n",
      "89\n"
     ]
    }
   ],
   "source": [
    "a = 0\n",
    "b = 1\n",
    "for i in range(10):\n",
    "    c = a+b\n",
    "    print(c)\n",
    "    a = b\n",
    "    b = c"
   ]
  },
  {
   "cell_type": "code",
   "execution_count": null,
   "id": "68869494",
   "metadata": {},
   "outputs": [],
   "source": []
  }
 ],
 "metadata": {
  "kernelspec": {
   "display_name": "Python 3 (ipykernel)",
   "language": "python",
   "name": "python3"
  },
  "language_info": {
   "codemirror_mode": {
    "name": "ipython",
    "version": 3
   },
   "file_extension": ".py",
   "mimetype": "text/x-python",
   "name": "python",
   "nbconvert_exporter": "python",
   "pygments_lexer": "ipython3",
   "version": "3.11.4"
  }
 },
 "nbformat": 4,
 "nbformat_minor": 5
}
