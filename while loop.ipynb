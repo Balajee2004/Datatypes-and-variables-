{
 "cells": [
  {
   "cell_type": "code",
   "execution_count": 22,
   "id": "79ce9724",
   "metadata": {},
   "outputs": [
    {
     "name": "stdout",
     "output_type": "stream",
     "text": [
      "Enter your Limit : 8\n",
      "Fibonacci Series : \n",
      "0\n",
      "1\n",
      "1\n",
      "2\n",
      "3\n",
      "5\n",
      "8\n",
      "13\n"
     ]
    }
   ],
   "source": [
    "num = int(input(\"Enter your Limit : \"))\n",
    "n1 = 0\n",
    "n2 = 1\n",
    "print(\"Fibonacci Series : \")\n",
    "print(n1)\n",
    "print(n2)\n",
    "count = 1\n",
    "while count <= num-2:\n",
    "    n3 = n1 + n2\n",
    "    print(n3)\n",
    "    n1 = n2\n",
    "    n2 = n3\n",
    "    count = count + 1"
   ]
  },
  {
   "cell_type": "code",
   "execution_count": null,
   "id": "ff127f83",
   "metadata": {},
   "outputs": [],
   "source": [
    "num = int(input(\"Enter your Limit : \"))\n",
    "n1 = 0\n",
    "n2 = 1\n",
    "print(\"Fibonacci Series : \")\n",
    "print(n1)\n",
    "print(n2)\n",
    "count = 1\n",
    "while count <= num-2:\n",
    "    n3 = n1 + n2\n",
    "    print(n3)\n",
    "    n1 = n2\n",
    "    n2 = n3\n",
    "    count = count + 1"
   ]
  }
 ],
 "metadata": {
  "kernelspec": {
   "display_name": "Python 3 (ipykernel)",
   "language": "python",
   "name": "python3"
  },
  "language_info": {
   "codemirror_mode": {
    "name": "ipython",
    "version": 3
   },
   "file_extension": ".py",
   "mimetype": "text/x-python",
   "name": "python",
   "nbconvert_exporter": "python",
   "pygments_lexer": "ipython3",
   "version": "3.11.4"
  }
 },
 "nbformat": 4,
 "nbformat_minor": 5
}
